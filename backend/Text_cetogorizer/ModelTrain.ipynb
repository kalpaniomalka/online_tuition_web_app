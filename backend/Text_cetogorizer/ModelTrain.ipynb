{
 "cells": [
  {
   "cell_type": "code",
   "execution_count": 1,
   "metadata": {},
   "outputs": [],
   "source": [
    "# Import libraries\n",
    "import pandas as pd\n",
    "import glob\n",
    "import pickle\n",
    "import matplotlib.pyplot as plt \n",
    "from sklearn.feature_extraction.text import CountVectorizer\n",
    "from sklearn.feature_extraction.text import TfidfTransformer\n",
    "from sklearn.naive_bayes import MultinomialNB\n",
    "from sklearn.model_selection import train_test_split\n",
    "from sklearn import metrics\n",
    "from sklearn.metrics import accuracy_score\n",
    "from sklearn import svm\n",
    "from sklearn.neural_network import MLPClassifier\n",
    "import warnings\n",
    "warnings.filterwarnings('ignore')"
   ]
  },
  {
   "cell_type": "code",
   "execution_count": 3,
   "metadata": {},
   "outputs": [],
   "source": [
    "category_list = [\"grade11\", \"grade11\", \"Notice\"]\n",
    "directory_list = [\"Dataset/grade11/*.txt\",  \"Dataset/grade11/*.txt\", \"Dataset/Notices/*.txt\"]\n",
    "\n",
    "text_files = list(map(lambda x: glob.glob(x), directory_list))\n",
    "text_files = [item for sublist in text_files for item in sublist]\n",
    "\n",
    "dataset = []\n",
    "data = \"\"\n",
    "\n",
    "for file in text_files:\n",
    "    f = open(file, 'r', encoding='utf-8')\n",
    "    f = f.read()\n",
    "    file = f.split('\\n')\n",
    "    last_line = file[len(file)-1]\n",
    "    file = file[:-1]\n",
    "    data = \"\"\n",
    "    for i in range(len(file)):\n",
    "        data += file[i] \n",
    "    dataset.append({'data' :  data, 'flag' : last_line})\n",
    "    "
   ]
  },
  {
   "cell_type": "code",
   "execution_count": 4,
   "metadata": {},
   "outputs": [
    {
     "name": "stdout",
     "output_type": "stream",
     "text": [
      "(65, 2)\n"
     ]
    }
   ],
   "source": [
    "dataset = pd.DataFrame(dataset, columns=['data','flag'])\n",
    "dataset.to_csv(\"dataset.csv\", sep=',', encoding='utf-8')\n",
    "print(dataset.shape)"
   ]
  },
  {
   "cell_type": "code",
   "execution_count": 5,
   "metadata": {},
   "outputs": [
    {
     "name": "stdout",
     "output_type": "stream",
     "text": [
      "{'at': 68, 'glance': 257, 'you': 632, 'may': 338, 'not': 375, 'be': 77, 'able': 29, 'to': 568, 'see': 471, 'two': 576, 'substances': 530, 'copper': 155, 'sulphate': 532, 'andnaphthalene': 53, 'but': 96, 'have': 267, 'mixture': 351, 'of': 383, 'the': 546, 'blend': 86, 'or': 393, 'more': 359, 'puresubstances': 432, 'is': 301, 'called': 101, 'and': 52, 'individual': 286, 'that': 545, 'form': 245, 'areknown': 64, 'as': 65, 'components': 139, 'take': 536, 'about': 30, '500': 27, 'ml': 353, 'water': 606, 'into': 299, 'beaker': 78, 'add': 39, 'about10g': 31, 'clayey': 120, 'soil': 495, 'it': 304, 'stir': 519, 'well': 613, 'allow': 47, 'stand': 513, 'still': 518, 'forabout': 244, 'one': 388, 'minute': 347, 'then': 555, 'filter': 234, 'muddy': 361, 'coloured': 133, 'waterinto': 607, 'another': 54, 'using': 589, 'piece': 407, 'cloth': 126, 'standstill': 515, 'for': 243, 'an': 51, 'hour': 276, 'whether': 617, 'colouris': 134, 'uniformly': 579, 'distributed': 192, 'throughout': 564, 'solution': 500, 'if': 281, 'theclearness': 548, 'similar': 483, 'from': 248, 'top': 570, 'bottom': 92, 'living': 323, 'tissuesphotosynthesismixtureswaves': 567, 'their': 552, 'applicationsgeometrical': 60, 'opticsbiological': 392, 'processes': 418, 'in': 285, 'human': 277, 'bodyacids': 88, 'bases': 75, 'salts': 464, 'heat': 269, 'changes': 112, 'associated': 67, 'with': 622, 'chemical': 116, 'reactionsheatpower': 438, 'energy': 208, 'electric': 202, 'applianceselectronicselectrochemistryelectromagnetism': 59, 'electromagnetic': 203, 'inductionhydrocarbons': 287, 'derivativesbiosphere': 180, 'mixtures': 352, 'which': 618, 'can': 105, 'distinguished': 191, 'anotherand': 55, 'are': 63, 'known': 309, 'heterogeneous': 273, 'physical': 406, 'properties': 428, 'themixture': 554, 'such': 531, 'colour': 132, 'transparency': 572, 'density': 178, 'different': 186, 'place': 408, 'was': 604, 'mentioned': 341, 'homogenous': 275, 'also': 48, 'solutionis': 501, 'composed': 140, 'solvent': 503, 'solutes': 499, 'mixed': 350, 'toform': 569, 'component': 138, 'present': 413, 'excess': 220, 'rest': 462, 'thecomponents': 549, 'according': 35, 'observations': 382, 'above': 32, 'activities': 38, 'confirmed': 148, 'thefollowing': 551, 'factors': 227, 'affect': 43, 'solubility': 496, 'temperature2': 540, 'nature': 366, 'solute3': 498, 'polar': 411, 'organic': 395, 'solvents2': 505, 'non': 373, 'solvents3': 506, 'inorganic': 292, 'solvents4': 507, 'solvents': 504, 'do': 193, 'gases': 252, 'really': 440, 'dissolve': 190, 'recall': 442, 'following': 242, 'experiences': 222, 'answer': 56, 'this': 562, 'soon': 509, 'bottle': 91, 'soda': 492, 'fizzy': 238, 'drink': 196, 'opened': 391, 'gas': 251, 'bubbles': 94, 'evolvefrom': 215, 'when': 616, 'heated': 270, 'seen': 472, 'on': 386, 'walls': 602, 'thebeaker': 547, 'what': 615, 'mole': 355, 'fraction': 246, 'sodium': 493, 'hydroxide': 278, 'naoh': 365, 'made': 328, 'bydissolving': 98, '40': 25, '180': 11, 'used': 588, 'express': 225, 'composition': 141, 'homogeneous': 274, 'international': 298, 'unit': 580, 'amount': 50, 'matter': 337, 'here': 272, 'given': 255, 'interms': 297, 'moles': 356, 'solute': 497, 'contained': 153, 'volume': 599, 'thecomposition': 550, 'expressed': 226, 'way': 608, 'concentration': 144, 'chemistry': 117, 'very': 592, 'often': 385, 'terms': 542, 'molesof': 357, 'cubic': 163, 'decimetre': 175, 'during': 199, 'experiments': 223, 'standard': 514, 'solutions': 502, 'required': 459, 'prepared': 412, 'concentratrion': 145, 'accuratelyknown': 37, 'relationships': 449, 'among': 49, 'units': 581, 'important': 283, 'thepreparation': 556, 'kindly': 308, 'look': 326, 'industry': 288, 'training': 571, 'module': 354, 'details': 182, 'program': 420, 'offered': 384, 'by': 97, 'faculty': 228, 'computing': 143, 'further': 250, 'contact': 152, 'mr': 360, 'saman': 465, 'gunawardena': 264, 'sliit': 488, 'lk': 325, 'manager': 332, 'delivery': 177, '1st': 13, 'academic': 34, 'week': 610, '2021only': 17, 'lectures': 314, 'will': 620, 'conducted': 147, 'no': 370, 'labs': 310, 'tutorials': 574, 'please': 410, 'note': 376, 'students': 522, 'who': 619, 'low': 327, '45': 26, 'ca': 99, 'marks': 335, 'should': 482, 're': 437, 'sit': 485, 'quiz': 434, 'assignment': 66, 'viva': 596, 'absent': 33, 'schedule': 466, 'published': 430, 'later': 312, 'final': 235, 'exam': 216, 'database': 167, 'administration': 42, 'held': 271, '15th': 9, '16th': 10, '18th': 12, 'december': 173, '2020': 14, 'based': 74, 'sections': 470, 'sql': 512, 'server': 479, 'oracle': 394, 'each': 200, 'student': 521, 'expected': 221, 'ready': 439, 'join': 305, '10': 3, 'minutes': 348, 'earlier': 201, 'allocated': 46, 'time': 565, 'slot': 489, 'stay': 517, 'waiting': 601, 'room': 463, 'until': 582, 'we': 609, 'connect': 149, 'there': 557, 'any': 57, 'repeat': 452, 'sessions': 481, 'make': 330, 'sure': 533, 'correct': 158, 'link': 318, 'scheduleviva': 468, 'examination': 217, 'commence': 135, '21st': 18, 'compulsory': 142, 'attend': 70, 'pass': 402, 'rescheduling': 461, 'process': 417, 'keep': 306, 'free': 247, 'midterm': 345, 'correction': 160, 'requeststoday': 458, 'checked': 114, 'requests': 457, 'none': 374, 'grades': 259, 'were': 614, 'changed': 111, 'releasing': 450, 'only': 390, 'after': 44, 'check': 113, 'few': 231, 'times': 566, 'so': 491, 'good': 258, 'enough': 211, 'think': 560, 'twice': 575, 'before': 80, 'request': 456, 'waste': 605, 'someone': 508, 'anyone': 58, 'had': 265, 'difficulties': 187, 'exams': 219, 'wants': 603, 'original': 396, 'mark': 334, 'without': 623, 'having': 268, 'ic': 279, 'status': 516, 'me': 339, 'examiners': 218, 'strictly': 520, 'checking': 115, 'copying': 156, 'reports': 453, 'daily': 165, 'diaries': 185, 'get': 254, 'caught': 109, 'minimum': 346, 'punishment': 431, 'outlined': 398, 'below': 82, 'per': 405, 'decision': 176, 'taken': 537, 'regards': 446, 'closure': 125, 'institute': 294, 'weeks': 612, 'group': 261, 'scheduled': 467, 'weekend': 611, 'refer': 443, 'uploaded': 586, 'material': 336, 'first': 237, 'lessons': 315, 'presentation': 414, 'skills': 487, 'business': 95, 'letter': 316, 'writing': 627, 'initially': 291, 'planing': 409, 'conduct': 146, 'guest': 262, 'experts': 224, 'since': 484, 'situation': 486, 'corona': 157, 'virus': 594, 'has': 266, 'prevented': 415, 'us': 587, 'workshops': 624, 'trying': 573, 'our': 397, 'best': 84, 'visiting': 595, 'lecturers': 313, 'online': 389, 'notice': 377, 'pathway': 403, 'year': 631, 'special': 511, 'information': 289, 'session': 480, 'progression': 424, '26th': 20, '2021': 15, '12': 5, '00pm': 2, 'dear': 172, 'cloud': 127, '14th': 7, 'available': 73, 'curtin': 164, 'sell': 474, 'workshopsstudents': 625, 'attending': 71, 'listworkshop': 321, 'table': 535, 'studentsthe': 526, 'science': 469, 'engineering': 209, 'language': 311, 'literacy': 322, 'diagnostic': 184, 'test': 543, 'now': 380, 'black': 85, 'board': 87, 'deadline': 171, 'submission': 528, 'notified': 378, 'team': 538, 'via': 593, 'id': 280, 'upload': 585, 'image': 282, 'yours': 634, 'drive': 197, 'folder': 240, 'clicking': 122, 'follow': 241, 'instructions': 295, 'wish': 621, 'apply': 61, 'refund': 444, 'click': 121, '30th': 24, 'march': 333, 'undergraduatesplease': 578, 'been': 79, 'enrolled': 213, 'accurate': 36, 'enroll': 212, '30pm': 23, 'enrollment': 214, 'provide': 429, 'update': 584, 'your': 633, '00am': 1, '11th': 4, 'filled': 233, 'considered': 151, 'progressing': 423, 'convocation': 154, 'ceremony': 110, '2021all': 16, 'collect': 128, 'cloaks': 124, 'them': 553, 'sending': 477, 'else': 205, 'purpose': 433, 'collecting': 129, 'cloak': 123, 'send': 476, 'email': 206, 'tharukshi': 544, 'nic': 369, 'number': 381, 'relationship': 448, 'relevant': 451, 'party': 401, '24th': 19, 'february': 230, 'slots': 490, 'cannot': 106, 'due': 198, 'reason': 441, 'collectionplease': 131, 'informed': 290, 'collection': 130, 'date': 168, 'all': 45, 'main': 329, 'auditorium': 72, 'day': 169, 'issuing': 303, 'general': 253, 'guidelines': 263, 'vivastudents': 597, 'microsoft': 342, 'teams': 539, '15': 8, 'panel': 399, 'members': 340, 'through': 563, 'call': 100, 'refundable': 445, 'deposit': 179, '000': 0, 'fill': 232, 'once': 387, 'done': 195, 'payment': 404, 'batch': 76, 'representative': 454, 'selection': 473, 'votingwe': 600, 'calling': 102, 'nomination': 372, 'representatives': 455, 'nominate': 371, 'would': 626, 'like': 317, 'intending': 296, 'graduate': 260, 'ljmu': 324, 'studentsrefer': 525, 'lists': 320, 'attached': 69, 'name': 362, 'missing': 349, 'rashmi': 435, 'midnight': 344, '5th': 28, 'november': 379, 'regular': 447, 'admin': 41, 'y2': 629, 'pro': 416, 'rata': 436, 'list': 319, 'names': 364, 'they': 559, '12midnight': 6, 'eligibility': 204, 'courseweb': 161, 'dashboard': 166, 'y1': 628, 'ipu': 300, 'software': 494, 'y3': 630, 'comp2007': 137, 'programming': 421, 'mid': 343, 'paper': 400, 'campus': 104, '28th': 21, 'september': 478, 'monday': 358, '30am': 22, 'studentsplease': 523, 'malabe': 331, 'days': 170, 'foc': 239, 'term': 541, 'studentsre': 524, 'commencement': 136, 'classesjuly': 119, 'semester': 475, 'camera': 103, 'kept': 307, 'beginning': 81, 'display': 189, 'card': 107, 'front': 249, 'studentsthis': 527, 'bring': 93, 'english': 210, 'proficiency': 419, 'requirement': 460, 'progress': 422, 'third': 561, 'belowielts': 83, 'system': 534, 'thesis': 558, 'proofread': 426, 'verionyou': 590, 'submit': 529, 'corrected': 159, 'proofreader': 427, 'documents': 194, 'project': 425, 'space': 510, 'inside': 293, 'create': 162, 'new': 368, 'named': 363, 'version': 591, 'giving': 256, 'consideration': 150, 'borderline': 90, 'cases': 108, 'additional': 40, 'disclaimer': 188, 'determine': 183, 'fail': 229, 'decided': 174, 'april': 62, 'boe': 89, 'importantmake': 284, 'up': 583, 'vivayour': 598, 'detail': 181, 'clarify': 118, 'issues': 302, 'end': 207, 'need': 367, 'finalize': 236, 'ui': 577}\n"
     ]
    }
   ],
   "source": [
    "# Get Vector Count\n",
    "vec_count = CountVectorizer()\n",
    "X_train_count = vec_count.fit_transform(dataset.data)\n",
    "\n",
    "print(vec_count.vocabulary_)\n",
    "\n",
    "# Save word vector\n",
    "pickle.dump(vec_count.vocabulary_, open(\"vec_count.pkl\", \"wb\"))"
   ]
  },
  {
   "cell_type": "code",
   "execution_count": 6,
   "metadata": {},
   "outputs": [
    {
     "name": "stdout",
     "output_type": "stream",
     "text": [
      "  (0, 632)\t0.2182354214607739\n",
      "  (0, 576)\t0.4333102947567374\n",
      "  (0, 568)\t0.0585774672222058\n",
      "  (0, 546)\t0.09838556187517718\n",
      "  (0, 545)\t0.09506596623718251\n",
      "  (0, 532)\t0.1650450140966157\n",
      "  (0, 530)\t0.3300900281932314\n",
      "  (0, 471)\t0.13708136241350133\n",
      "  (0, 432)\t0.1650450140966157\n",
      "  (0, 393)\t0.11262801259245409\n",
      "  (0, 383)\t0.12738202804340845\n",
      "  (0, 375)\t0.1254753983482369\n",
      "  (0, 359)\t0.14443676491891247\n",
      "  (0, 351)\t0.39258737461885346\n",
      "  (0, 338)\t0.15343905003135125\n",
      "  (0, 301)\t0.0721517739348338\n",
      "  (0, 286)\t0.1650450140966157\n",
      "  (0, 267)\t0.10911771073038695\n",
      "  (0, 257)\t0.1650450140966157\n",
      "  (0, 245)\t0.14443676491891247\n",
      "  (0, 155)\t0.1650450140966157\n",
      "  (0, 139)\t0.1254753983482369\n",
      "  (0, 101)\t0.13086245820628448\n",
      "  (0, 96)\t0.15343905003135125\n",
      "  (0, 86)\t0.1650450140966157\n",
      "  :\t:\n",
      "  (63, 9)\t0.20232147434075878\n",
      "  (64, 633)\t0.29173722456926204\n",
      "  (64, 632)\t0.38055704742397395\n",
      "  (64, 622)\t0.15936086570411742\n",
      "  (64, 610)\t0.3837387645338204\n",
      "  (64, 577)\t0.21088564541021654\n",
      "  (64, 568)\t0.06809792172277\n",
      "  (64, 562)\t0.27080641495991375\n",
      "  (64, 546)\t0.0571879650054821\n",
      "  (64, 545)\t0.11051680849842269\n",
      "  (64, 533)\t0.1918693822669102\n",
      "  (64, 425)\t0.1918693822669102\n",
      "  (64, 383)\t0.07404256095336409\n",
      "  (64, 367)\t0.21088564541021654\n",
      "  (64, 330)\t0.15936086570411742\n",
      "  (64, 310)\t0.1783771288474238\n",
      "  (64, 302)\t0.21088564541021654\n",
      "  (64, 267)\t0.12685234914132465\n",
      "  (64, 236)\t0.21088564541021654\n",
      "  (64, 235)\t0.14586861228463102\n",
      "  (64, 207)\t0.21088564541021654\n",
      "  (64, 118)\t0.21088564541021654\n",
      "  (64, 105)\t0.15936086570411742\n",
      "  (64, 97)\t0.14034460256081102\n",
      "  (64, 68)\t0.13540320747995688\n"
     ]
    }
   ],
   "source": [
    "# Transform word vector to TF IDF\n",
    "tfidf_transformer = TfidfTransformer()\n",
    "X_train_tfidf = tfidf_transformer.fit_transform(X_train_count)\n",
    "print(X_train_tfidf)\n",
    "\n",
    "# Save TF IDF\n",
    "pickle.dump(tfidf_transformer, open(\"tfidf.pkl\", \"wb\"))"
   ]
  },
  {
   "cell_type": "code",
   "execution_count": 7,
   "metadata": {},
   "outputs": [],
   "source": [
    "x_train, x_test, y_train, y_test = train_test_split(X_train_tfidf, dataset.flag, test_size=0.2, random_state=42)"
   ]
  },
  {
   "cell_type": "markdown",
   "metadata": {},
   "source": [
    "# Validate Accuracy using different algorithms"
   ]
  },
  {
   "cell_type": "code",
   "execution_count": 8,
   "metadata": {},
   "outputs": [],
   "source": [
    "results = []\n",
    "names = []"
   ]
  },
  {
   "cell_type": "markdown",
   "metadata": {},
   "source": [
    "# Naive Bayes Algorithm"
   ]
  },
  {
   "cell_type": "code",
   "execution_count": 9,
   "metadata": {},
   "outputs": [
    {
     "name": "stdout",
     "output_type": "stream",
     "text": [
      "Test Data Accuracy Naive Bayes Algorithm: 84.61538461538461\n"
     ]
    }
   ],
   "source": [
    "# Naive Bayes Algorithm\n",
    "clf = MultinomialNB().fit(x_train, y_train)\n",
    "y_predicted = clf.predict(x_test)\n",
    "\n",
    "acc = (metrics.accuracy_score(y_test, y_predicted))*100\n",
    "results.append(acc)\n",
    "names.append('NBA')\n",
    "print(\"Test Data Accuracy Naive Bayes Algorithm: \"+str(acc))"
   ]
  },
  {
   "cell_type": "code",
   "execution_count": 10,
   "metadata": {},
   "outputs": [
    {
     "name": "stdout",
     "output_type": "stream",
     "text": [
      "Confusion matrix : \n",
      " [[8 0]\n",
      " [2 3]]\n"
     ]
    }
   ],
   "source": [
    "matrix = metrics.confusion_matrix(y_test,y_predicted)\n",
    "print('Confusion matrix : \\n', matrix)\n"
   ]
  },
  {
   "cell_type": "code",
   "execution_count": 13,
   "metadata": {},
   "outputs": [
    {
     "name": "stdout",
     "output_type": "stream",
     "text": [
      "['grade11']\n"
     ]
    }
   ],
   "source": [
    "new_doc = \"HYDROCARBONS AND THEIR DERIVATIVES\"\n",
    "new_doc = [new_doc]\n",
    "\n",
    "loaded_vec = CountVectorizer(vocabulary=pickle.load(open(\"vec_count.pkl\", \"rb\"))) \n",
    "loaded_tfidf = pickle.load(open(\"tfidf.pkl\",\"rb\"))\n",
    "\n",
    "x_new_counts = loaded_vec.transform(new_doc)\n",
    "x_new_tfidf = loaded_tfidf.transform(x_new_counts)\n",
    "predict = clf.predict(x_new_tfidf)\n",
    "print(predict)"
   ]
  },
  {
   "cell_type": "code",
   "execution_count": 14,
   "metadata": {},
   "outputs": [
    {
     "name": "stdout",
     "output_type": "stream",
     "text": [
      "   true_labels predicted_labels\n",
      "53      Notice           Notice\n",
      "60      Notice           Notice\n",
      "0      grade11           Notice\n",
      "45      Notice           Notice\n",
      "5      grade11          grade11\n",
      "61      Notice           Notice\n",
      "16     grade11          grade11\n",
      "12     grade11           Notice\n",
      "64      Notice           Notice\n",
      "30      Notice           Notice\n",
      "33      Notice           Notice\n",
      "9      grade11          grade11\n",
      "41      Notice           Notice\n"
     ]
    }
   ],
   "source": [
    "result_bayes = pd.DataFrame({'true_labels': y_test, \"predicted_labels\": y_predicted})\n",
    "print(result_bayes)"
   ]
  },
  {
   "cell_type": "markdown",
   "metadata": {},
   "source": [
    "# Support Vector Machine"
   ]
  },
  {
   "cell_type": "code",
   "execution_count": 15,
   "metadata": {},
   "outputs": [
    {
     "name": "stdout",
     "output_type": "stream",
     "text": [
      "Test Data Accuracy SVM Algorithm: 84.61538461538461\n"
     ]
    }
   ],
   "source": [
    "# SVM\n",
    "clf_svm = svm.LinearSVC()\n",
    "clf_svm.fit(x_train, y_train)\n",
    "\n",
    "y_predicted_svm = clf_svm.predict(x_test)\n",
    "\n",
    "acc = (metrics.accuracy_score(y_test, y_predicted_svm))*100\n",
    "results.append(acc)\n",
    "names.append('SVM')\n",
    "print(\"Test Data Accuracy SVM Algorithm: \"+str(acc))\n"
   ]
  },
  {
   "cell_type": "code",
   "execution_count": 17,
   "metadata": {},
   "outputs": [
    {
     "name": "stdout",
     "output_type": "stream",
     "text": [
      "['grade11']\n"
     ]
    }
   ],
   "source": [
    "new_doc = \"HYDROCARBONS AND THEIR DERIVATIVES\"\n",
    "new_doc = [new_doc]\n",
    "\n",
    "loaded_vec = CountVectorizer(vocabulary=pickle.load(open(\"vec_count.pkl\", \"rb\"))) \n",
    "loaded_tfidf = pickle.load(open(\"tfidf.pkl\",\"rb\"))\n",
    "\n",
    "x_new_counts = loaded_vec.transform(new_doc)\n",
    "x_new_tfidf = loaded_tfidf.transform(x_new_counts)\n",
    "predict = clf_svm.predict(x_new_tfidf)\n",
    "print(predict)"
   ]
  },
  {
   "cell_type": "code",
   "execution_count": 18,
   "metadata": {},
   "outputs": [
    {
     "name": "stdout",
     "output_type": "stream",
     "text": [
      "   true_labels predicted_labels\n",
      "53      Notice           Notice\n",
      "60      Notice           Notice\n",
      "0      grade11           Notice\n",
      "45      Notice           Notice\n",
      "5      grade11          grade11\n",
      "61      Notice           Notice\n",
      "16     grade11          grade11\n",
      "12     grade11           Notice\n",
      "64      Notice           Notice\n",
      "30      Notice           Notice\n",
      "33      Notice           Notice\n",
      "9      grade11          grade11\n",
      "41      Notice           Notice\n"
     ]
    }
   ],
   "source": [
    "result_bayes = pd.DataFrame({'true_labels': y_test, \"predicted_labels\": y_predicted})\n",
    "print(result_bayes)"
   ]
  },
  {
   "cell_type": "markdown",
   "metadata": {},
   "source": [
    "# Multi-layer Perceptron classifier"
   ]
  },
  {
   "cell_type": "code",
   "execution_count": 19,
   "metadata": {},
   "outputs": [
    {
     "name": "stdout",
     "output_type": "stream",
     "text": [
      "Test Data Accuracy MLP Classifier: 84.61538461538461\n"
     ]
    }
   ],
   "source": [
    "# MLP Classifier\n",
    "\n",
    "clf_mlp = MLPClassifier(solver='lbfgs', alpha=1e-5, hidden_layer_sizes=(15,), random_state=1)\n",
    "clf_mlp.fit(x_train, y_train)\n",
    "\n",
    "y_predicted_neural = clf_mlp.predict(x_test)\n",
    "\n",
    "acc = (metrics.accuracy_score(y_test, y_predicted_neural))*100\n",
    "results.append(acc)\n",
    "names.append('MLP')\n",
    "print(\"Test Data Accuracy MLP Classifier: \"+str(acc))\n"
   ]
  },
  {
   "cell_type": "code",
   "execution_count": 20,
   "metadata": {},
   "outputs": [
    {
     "name": "stdout",
     "output_type": "stream",
     "text": [
      "['grade11']\n"
     ]
    }
   ],
   "source": [
    "new_doc = \"HYDROCARBONS AND THEIR DERIVATIVES\"\n",
    "new_doc = [new_doc]\n",
    "\n",
    "loaded_vec = CountVectorizer(vocabulary=pickle.load(open(\"vec_count.pkl\", \"rb\"))) \n",
    "loaded_tfidf = pickle.load(open(\"tfidf.pkl\",\"rb\"))\n",
    "\n",
    "x_new_counts = loaded_vec.transform(new_doc)\n",
    "x_new_tfidf = loaded_tfidf.transform(x_new_counts)\n",
    "predict = clf_mlp.predict(x_new_tfidf)\n",
    "print(predict)"
   ]
  },
  {
   "cell_type": "markdown",
   "metadata": {},
   "source": [
    "# Plot the results"
   ]
  },
  {
   "cell_type": "code",
   "execution_count": 21,
   "metadata": {},
   "outputs": [
    {
     "data": {
      "image/png": "[encoded data removed]",
      "text/plain": [
       "<Figure size 432x288 with 1 Axes>"
      ]
     },
     "metadata": {
      "needs_background": "light"
     },
     "output_type": "display_data"
    }
   ],
   "source": [
    "fig = plt.figure()\n",
    "ax = fig.add_axes([0,0,1,1])\n",
    "classifier = names\n",
    "accuracy = results\n",
    "ax.bar(classifier,accuracy)\n",
    "plt.show()"
   ]
  },
  {
   "cell_type": "markdown",
   "metadata": {},
   "source": [
    "# Save the model"
   ]
  },
  {
   "cell_type": "code",
   "execution_count": 22,
   "metadata": {},
   "outputs": [],
   "source": [
    "# SVM\n",
    "filename = 'finalized_model.pickle'\n",
    "pickle.dump(clf_svm, open(filename, 'wb'))"
   ]
  },
  {
   "cell_type": "markdown",
   "metadata": {},
   "source": [
    "# Load the model"
   ]
  },
  {
   "cell_type": "code",
   "execution_count": 24,
   "metadata": {},
   "outputs": [
    {
     "name": "stdout",
     "output_type": "stream",
     "text": [
      "['grade11']\n"
     ]
    }
   ],
   "source": [
    "filename = 'finalized_model.pickle'\n",
    "loaded_model = pickle.load(open(filename, 'rb'))\n",
    "\n",
    "new_doc =\"HYDROCARBONS AND THEIR DERIVATIVES\"\n",
    "new_doc = [new_doc]\n",
    "\n",
    "loaded_vec = CountVectorizer(vocabulary=pickle.load(open(\"vec_count.pkl\", \"rb\"))) \n",
    "loaded_tfidf = pickle.load(open(\"tfidf.pkl\",\"rb\"))\n",
    "\n",
    "x_new_counts = loaded_vec.transform(new_doc)\n",
    "x_new_tfidf = loaded_tfidf.transform(x_new_counts)\n",
    "predict = loaded_model.predict(x_new_tfidf)\n",
    "print(predict)"
   ]
  },
  {
   "cell_type": "code",
   "execution_count": null,
   "metadata": {},
   "outputs": [],
   "source": []
  }
 ],
 "metadata": {
  "kernelspec": {
   "display_name": "Python 3",
   "language": "python",
   "name": "python3"
  },
  "language_info": {
   "codemirror_mode": {
    "name": "ipython",
    "version": 3
   },
   "file_extension": ".py",
   "mimetype": "text/x-python",
   "name": "python",
   "nbconvert_exporter": "python",
   "pygments_lexer": "ipython3",
   "version": "3.6.10"
  }
 },
 "nbformat": 4,
 "nbformat_minor": 4
}
